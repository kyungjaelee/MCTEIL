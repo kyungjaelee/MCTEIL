{
 "cells": [
  {
   "cell_type": "code",
   "execution_count": 2,
   "metadata": {},
   "outputs": [
    {
     "name": "stdout",
     "output_type": "stream",
     "text": [
      "Python version is [2]\n"
     ]
    }
   ],
   "source": [
    "import os,nbloader,warnings,sys,time\n",
    "warnings.filterwarnings(\"ignore\")\n",
    "\n",
    "import numpy as np\n",
    "import pickle\n",
    "\n",
    "from multigoal_imitation_learning import train_imitation_learning\n",
    "\n",
    "import itertools\n",
    "from multiprocessing import Process\n",
    "\n",
    "if __name__ == \"__main__\":\n",
    "    print (\"Python version is [%s]\"%(sys.version_info[0]))"
   ]
  },
  {
   "cell_type": "code",
   "execution_count": 3,
   "metadata": {},
   "outputs": [],
   "source": [
    "class grid_maker(object):\n",
    "    def __init__(self,*_arg):\n",
    "        self.arg = _arg\n",
    "        self.nArg = len(self.arg) # Number of total lists\n",
    "        _product = itertools.product(*self.arg); _nIter = 0\n",
    "        for x in _product: _nIter += 1\n",
    "        self.nIter = _nIter\n",
    "        self.paramList = ['']*self.nIter\n",
    "        self.idxList = ['']*self.nIter\n",
    "        _product = itertools.product(*self.arg);\n",
    "        for idx,x in enumerate(_product):\n",
    "            self.paramList[idx] = x"
   ]
  },
  {
   "cell_type": "code",
   "execution_count": 4,
   "metadata": {},
   "outputs": [
    {
     "name": "stdout",
     "output_type": "stream",
     "text": [
      "\n",
      "maxProcessID:[8], nTask:[11]\n",
      " processID:[0] [0, 8]\n",
      " processID:[1] [1, 9]\n",
      " processID:[2] [2, 10]\n",
      " processID:[3] [3]\n",
      " processID:[4] [4]\n",
      " processID:[5] [5]\n",
      " processID:[6] [6]\n",
      " processID:[7] [7]\n"
     ]
    }
   ],
   "source": [
    "def get_properIdx(_processID,_maxProcessID,_nTask):\n",
    "    ret = []\n",
    "    if _processID > _nTask: return ret\n",
    "    if _processID > _maxProcessID: return ret\n",
    "    m = (_nTask-_processID-1) // _maxProcessID\n",
    "    for i in range(m+1):\n",
    "        ret.append(i*_maxProcessID+_processID)\n",
    "    return ret\n",
    "if __name__ == \"__main__\":\n",
    "    maxProcessID,nTask = 8,11\n",
    "    print (\"\\nmaxProcessID:[%d], nTask:[%d]\"%(maxProcessID,nTask ))\n",
    "    for processID in range(maxProcessID):\n",
    "        ids = get_properIdx(_processID=processID,_maxProcessID=maxProcessID,_nTask=nTask)\n",
    "        print (\" processID:[%d] %s\"%(processID,ids))"
   ]
  },
  {
   "cell_type": "code",
   "execution_count": 5,
   "metadata": {},
   "outputs": [
    {
     "name": "stdout",
     "output_type": "stream",
     "text": [
      "GPU_ID:[1]\n",
      "(0, (0.003, 1, 0.1, 4, 300, 'softmax'))\n"
     ]
    }
   ],
   "source": [
    "kl_targ_list=[3e-3]\n",
    "entcoeff_list=[1e-3, 1e-1, 1e-5]\n",
    "mdn_weigth_list=[\"sparsemax\",\"softmax\"]\n",
    "n_mixture_list=[4]\n",
    "epi_size_list=[300]\n",
    "seed_list=[0,1,2,3,4]\n",
    "\n",
    "def get_multigoal_config(_processID=0,_maxProcessID=2,_maxGPU=1,_DO_SHUFFLE=False):\n",
    "    # Get total configurations\n",
    "    _G = grid_maker(kl_targ_list,seed_list,entcoeff_list,n_mixture_list,epi_size_list,mdn_weigth_list)\n",
    "    # Get current configurations\n",
    "    _ids = get_properIdx(_processID,_maxProcessID,_nTask=_G.nIter)\n",
    "    _paramsList = list(_G.paramList[i] for i in _ids) \n",
    "    # Set GPU ID\n",
    "    _GPU_ID = (_processID % _maxGPU)\n",
    "    # Suffle if required\n",
    "    if _DO_SHUFFLE:\n",
    "        shuffle(_paramsList)\n",
    "    return _paramsList,_GPU_ID\n",
    "\n",
    "if __name__ == \"__main__\":\n",
    "    processID = 5\n",
    "    maxProcessID = 32\n",
    "    maxGPU = 4\n",
    "    paramsList,GPU_ID = get_multigoal_config(processID,maxProcessID,maxGPU)\n",
    "    print (\"GPU_ID:[%d]\"%(GPU_ID))\n",
    "    for pIdx,params in enumerate(paramsList): # For all current configurations\n",
    "        print (pIdx,params) "
   ]
  },
  {
   "cell_type": "code",
   "execution_count": 6,
   "metadata": {},
   "outputs": [
    {
     "ename": "KeyboardInterrupt",
     "evalue": "",
     "output_type": "error",
     "traceback": [
      "\u001b[0;31m---------------------------------------------------------------------------\u001b[0m",
      "\u001b[0;31mKeyboardInterrupt\u001b[0m                         Traceback (most recent call last)",
      "\u001b[0;32m<ipython-input-6-60671aefd21d>\u001b[0m in \u001b[0;36m<module>\u001b[0;34m()\u001b[0m\n\u001b[1;32m      8\u001b[0m     \u001b[0mmaxProcessID\u001b[0m \u001b[0;34m=\u001b[0m \u001b[0;36m1792\u001b[0m\u001b[0;34m\u001b[0m\u001b[0m\n\u001b[1;32m      9\u001b[0m     \u001b[0mparameter_list\u001b[0m\u001b[0;34m,\u001b[0m\u001b[0mGPU_ID\u001b[0m \u001b[0;34m=\u001b[0m \u001b[0mget_multigoal_config\u001b[0m\u001b[0;34m(\u001b[0m\u001b[0mprocessID\u001b[0m\u001b[0;34m,\u001b[0m\u001b[0mmaxProcessID\u001b[0m\u001b[0;34m)\u001b[0m\u001b[0;34m\u001b[0m\u001b[0m\n\u001b[0;32m---> 10\u001b[0;31m     \u001b[0mtrain_imitation_learning_multiprocessing\u001b[0m\u001b[0;34m(\u001b[0m\u001b[0mparameter_list\u001b[0m\u001b[0;34m=\u001b[0m\u001b[0mparameter_list\u001b[0m\u001b[0;34m,\u001b[0m\u001b[0mGPU_ID\u001b[0m\u001b[0;34m=\u001b[0m\u001b[0mGPU_ID\u001b[0m\u001b[0;34m,\u001b[0m\u001b[0mverbose\u001b[0m\u001b[0;34m=\u001b[0m\u001b[0mTrue\u001b[0m\u001b[0;34m)\u001b[0m\u001b[0;34m\u001b[0m\u001b[0m\n\u001b[0m",
      "\u001b[0;32m<ipython-input-6-60671aefd21d>\u001b[0m in \u001b[0;36mtrain_imitation_learning_multiprocessing\u001b[0;34m(parameter_list, GPU_ID, verbose)\u001b[0m\n\u001b[1;32m      2\u001b[0m     \u001b[0;32mfor\u001b[0m \u001b[0mpIdx\u001b[0m\u001b[0;34m,\u001b[0m\u001b[0mparams\u001b[0m \u001b[0;32min\u001b[0m \u001b[0menumerate\u001b[0m\u001b[0;34m(\u001b[0m\u001b[0mparameter_list\u001b[0m\u001b[0;34m)\u001b[0m\u001b[0;34m:\u001b[0m \u001b[0;31m# For all current configurations\u001b[0m\u001b[0;34m\u001b[0m\u001b[0m\n\u001b[1;32m      3\u001b[0m         \u001b[0mkl_targ\u001b[0m\u001b[0;34m,\u001b[0m\u001b[0mseed\u001b[0m\u001b[0;34m,\u001b[0m\u001b[0mentcoeff\u001b[0m\u001b[0;34m,\u001b[0m\u001b[0mn_mixture\u001b[0m\u001b[0;34m,\u001b[0m\u001b[0mdemo_size\u001b[0m\u001b[0;34m,\u001b[0m\u001b[0mmdn_weight\u001b[0m\u001b[0;34m=\u001b[0m\u001b[0mparams\u001b[0m\u001b[0;34m\u001b[0m\u001b[0m\n\u001b[0;32m----> 4\u001b[0;31m         \u001b[0mtrain_imitation_learning\u001b[0m\u001b[0;34m(\u001b[0m\u001b[0mseed\u001b[0m\u001b[0;34m,\u001b[0m\u001b[0mkl_targ\u001b[0m\u001b[0;34m,\u001b[0m\u001b[0mentcoeff\u001b[0m\u001b[0;34m,\u001b[0m\u001b[0mn_mixture\u001b[0m\u001b[0;34m,\u001b[0m\u001b[0mdemo_size\u001b[0m\u001b[0;34m,\u001b[0m\u001b[0mmdn_weight\u001b[0m\u001b[0;34m,\u001b[0m\u001b[0mGPU_ID\u001b[0m\u001b[0;34m=\u001b[0m\u001b[0mGPU_ID\u001b[0m\u001b[0;34m,\u001b[0m\u001b[0mverbose\u001b[0m\u001b[0;34m=\u001b[0m\u001b[0mverbose\u001b[0m\u001b[0;34m)\u001b[0m\u001b[0;34m\u001b[0m\u001b[0m\n\u001b[0m\u001b[1;32m      5\u001b[0m \u001b[0;34m\u001b[0m\u001b[0m\n\u001b[1;32m      6\u001b[0m \u001b[0;32mif\u001b[0m \u001b[0m__name__\u001b[0m \u001b[0;34m==\u001b[0m \u001b[0;34m\"__main__\"\u001b[0m\u001b[0;34m:\u001b[0m\u001b[0;34m\u001b[0m\u001b[0m\n",
      "\u001b[0;32m/home/dlxhrl/Projects/MCTEIL/multigoal_experiments/multigoal_imitation_learning.ipynb\u001b[0m in \u001b[0;36mtrain_imitation_learning\u001b[0;34m(seed, kl_targ, entcoeff, n_mixture, demo_size, mdn_weight, GPU_ID, verbose, gamma, lam, max_std, episode_size, batch_size, nupdates, save_iter, min_save_iter)\u001b[0m\n",
      "\u001b[0;32m/home/dlxhrl/Projects/MCTEIL/multigoal_experiments/multigoal_imitation_learning.ipynb\u001b[0m in \u001b[0;36mfit\u001b[0;34m(self, x, y, batch_size)\u001b[0m\n",
      "\u001b[0;32m/usr/local/lib/python2.7/dist-packages/tensorflow/python/client/session.pyc\u001b[0m in \u001b[0;36mrun\u001b[0;34m(self, fetches, feed_dict, options, run_metadata)\u001b[0m\n\u001b[1;32m    887\u001b[0m     \u001b[0;32mtry\u001b[0m\u001b[0;34m:\u001b[0m\u001b[0;34m\u001b[0m\u001b[0m\n\u001b[1;32m    888\u001b[0m       result = self._run(None, fetches, feed_dict, options_ptr,\n\u001b[0;32m--> 889\u001b[0;31m                          run_metadata_ptr)\n\u001b[0m\u001b[1;32m    890\u001b[0m       \u001b[0;32mif\u001b[0m \u001b[0mrun_metadata\u001b[0m\u001b[0;34m:\u001b[0m\u001b[0;34m\u001b[0m\u001b[0m\n\u001b[1;32m    891\u001b[0m         \u001b[0mproto_data\u001b[0m \u001b[0;34m=\u001b[0m \u001b[0mtf_session\u001b[0m\u001b[0;34m.\u001b[0m\u001b[0mTF_GetBuffer\u001b[0m\u001b[0;34m(\u001b[0m\u001b[0mrun_metadata_ptr\u001b[0m\u001b[0;34m)\u001b[0m\u001b[0;34m\u001b[0m\u001b[0m\n",
      "\u001b[0;32m/usr/local/lib/python2.7/dist-packages/tensorflow/python/client/session.pyc\u001b[0m in \u001b[0;36m_run\u001b[0;34m(self, handle, fetches, feed_dict, options, run_metadata)\u001b[0m\n\u001b[1;32m   1118\u001b[0m     \u001b[0;32mif\u001b[0m \u001b[0mfinal_fetches\u001b[0m \u001b[0;32mor\u001b[0m \u001b[0mfinal_targets\u001b[0m \u001b[0;32mor\u001b[0m \u001b[0;34m(\u001b[0m\u001b[0mhandle\u001b[0m \u001b[0;32mand\u001b[0m \u001b[0mfeed_dict_tensor\u001b[0m\u001b[0;34m)\u001b[0m\u001b[0;34m:\u001b[0m\u001b[0;34m\u001b[0m\u001b[0m\n\u001b[1;32m   1119\u001b[0m       results = self._do_run(handle, final_targets, final_fetches,\n\u001b[0;32m-> 1120\u001b[0;31m                              feed_dict_tensor, options, run_metadata)\n\u001b[0m\u001b[1;32m   1121\u001b[0m     \u001b[0;32melse\u001b[0m\u001b[0;34m:\u001b[0m\u001b[0;34m\u001b[0m\u001b[0m\n\u001b[1;32m   1122\u001b[0m       \u001b[0mresults\u001b[0m \u001b[0;34m=\u001b[0m \u001b[0;34m[\u001b[0m\u001b[0;34m]\u001b[0m\u001b[0;34m\u001b[0m\u001b[0m\n",
      "\u001b[0;32m/usr/local/lib/python2.7/dist-packages/tensorflow/python/client/session.pyc\u001b[0m in \u001b[0;36m_do_run\u001b[0;34m(self, handle, target_list, fetch_list, feed_dict, options, run_metadata)\u001b[0m\n\u001b[1;32m   1315\u001b[0m     \u001b[0;32mif\u001b[0m \u001b[0mhandle\u001b[0m \u001b[0;32mis\u001b[0m \u001b[0mNone\u001b[0m\u001b[0;34m:\u001b[0m\u001b[0;34m\u001b[0m\u001b[0m\n\u001b[1;32m   1316\u001b[0m       return self._do_call(_run_fn, self._session, feeds, fetches, targets,\n\u001b[0;32m-> 1317\u001b[0;31m                            options, run_metadata)\n\u001b[0m\u001b[1;32m   1318\u001b[0m     \u001b[0;32melse\u001b[0m\u001b[0;34m:\u001b[0m\u001b[0;34m\u001b[0m\u001b[0m\n\u001b[1;32m   1319\u001b[0m       \u001b[0;32mreturn\u001b[0m \u001b[0mself\u001b[0m\u001b[0;34m.\u001b[0m\u001b[0m_do_call\u001b[0m\u001b[0;34m(\u001b[0m\u001b[0m_prun_fn\u001b[0m\u001b[0;34m,\u001b[0m \u001b[0mself\u001b[0m\u001b[0;34m.\u001b[0m\u001b[0m_session\u001b[0m\u001b[0;34m,\u001b[0m \u001b[0mhandle\u001b[0m\u001b[0;34m,\u001b[0m \u001b[0mfeeds\u001b[0m\u001b[0;34m,\u001b[0m \u001b[0mfetches\u001b[0m\u001b[0;34m)\u001b[0m\u001b[0;34m\u001b[0m\u001b[0m\n",
      "\u001b[0;32m/usr/local/lib/python2.7/dist-packages/tensorflow/python/client/session.pyc\u001b[0m in \u001b[0;36m_do_call\u001b[0;34m(self, fn, *args)\u001b[0m\n\u001b[1;32m   1321\u001b[0m   \u001b[0;32mdef\u001b[0m \u001b[0m_do_call\u001b[0m\u001b[0;34m(\u001b[0m\u001b[0mself\u001b[0m\u001b[0;34m,\u001b[0m \u001b[0mfn\u001b[0m\u001b[0;34m,\u001b[0m \u001b[0;34m*\u001b[0m\u001b[0margs\u001b[0m\u001b[0;34m)\u001b[0m\u001b[0;34m:\u001b[0m\u001b[0;34m\u001b[0m\u001b[0m\n\u001b[1;32m   1322\u001b[0m     \u001b[0;32mtry\u001b[0m\u001b[0;34m:\u001b[0m\u001b[0;34m\u001b[0m\u001b[0m\n\u001b[0;32m-> 1323\u001b[0;31m       \u001b[0;32mreturn\u001b[0m \u001b[0mfn\u001b[0m\u001b[0;34m(\u001b[0m\u001b[0;34m*\u001b[0m\u001b[0margs\u001b[0m\u001b[0;34m)\u001b[0m\u001b[0;34m\u001b[0m\u001b[0m\n\u001b[0m\u001b[1;32m   1324\u001b[0m     \u001b[0;32mexcept\u001b[0m \u001b[0merrors\u001b[0m\u001b[0;34m.\u001b[0m\u001b[0mOpError\u001b[0m \u001b[0;32mas\u001b[0m \u001b[0me\u001b[0m\u001b[0;34m:\u001b[0m\u001b[0;34m\u001b[0m\u001b[0m\n\u001b[1;32m   1325\u001b[0m       \u001b[0mmessage\u001b[0m \u001b[0;34m=\u001b[0m \u001b[0mcompat\u001b[0m\u001b[0;34m.\u001b[0m\u001b[0mas_text\u001b[0m\u001b[0;34m(\u001b[0m\u001b[0me\u001b[0m\u001b[0;34m.\u001b[0m\u001b[0mmessage\u001b[0m\u001b[0;34m)\u001b[0m\u001b[0;34m\u001b[0m\u001b[0m\n",
      "\u001b[0;32m/usr/local/lib/python2.7/dist-packages/tensorflow/python/client/session.pyc\u001b[0m in \u001b[0;36m_run_fn\u001b[0;34m(session, feed_dict, fetch_list, target_list, options, run_metadata)\u001b[0m\n\u001b[1;32m   1300\u001b[0m           return tf_session.TF_Run(session, options,\n\u001b[1;32m   1301\u001b[0m                                    \u001b[0mfeed_dict\u001b[0m\u001b[0;34m,\u001b[0m \u001b[0mfetch_list\u001b[0m\u001b[0;34m,\u001b[0m \u001b[0mtarget_list\u001b[0m\u001b[0;34m,\u001b[0m\u001b[0;34m\u001b[0m\u001b[0m\n\u001b[0;32m-> 1302\u001b[0;31m                                    status, run_metadata)\n\u001b[0m\u001b[1;32m   1303\u001b[0m \u001b[0;34m\u001b[0m\u001b[0m\n\u001b[1;32m   1304\u001b[0m     \u001b[0;32mdef\u001b[0m \u001b[0m_prun_fn\u001b[0m\u001b[0;34m(\u001b[0m\u001b[0msession\u001b[0m\u001b[0;34m,\u001b[0m \u001b[0mhandle\u001b[0m\u001b[0;34m,\u001b[0m \u001b[0mfeed_dict\u001b[0m\u001b[0;34m,\u001b[0m \u001b[0mfetch_list\u001b[0m\u001b[0;34m)\u001b[0m\u001b[0;34m:\u001b[0m\u001b[0;34m\u001b[0m\u001b[0m\n",
      "\u001b[0;31mKeyboardInterrupt\u001b[0m: "
     ]
    }
   ],
   "source": [
    "def train_imitation_learning_multiprocessing(parameter_list=None,GPU_ID=0,verbose=False):\n",
    "    for pIdx,params in enumerate(parameter_list): # For all current configurations\n",
    "        kl_targ,seed,entcoeff,n_mixture,demo_size,mdn_weight=params\n",
    "        train_imitation_learning(seed,kl_targ,entcoeff,n_mixture,demo_size,mdn_weight,GPU_ID=GPU_ID,verbose=verbose)\n",
    "\n",
    "if __name__ == \"__main__\":\n",
    "    processID = 0\n",
    "    maxProcessID = 1792\n",
    "    parameter_list,GPU_ID = get_multigoal_config(processID,maxProcessID)\n",
    "    train_imitation_learning_multiprocessing(parameter_list=parameter_list,GPU_ID=GPU_ID,verbose=True)"
   ]
  },
  {
   "cell_type": "code",
   "execution_count": 14,
   "metadata": {},
   "outputs": [
    {
     "name": "stdout",
     "output_type": "stream",
     "text": [
      "worker_class defined.\n"
     ]
    }
   ],
   "source": [
    "class worker_class(Process):\n",
    "    def __init__(self,_idx=0,_maxProcessID=8,_maxGPU=8,_name='worker',_FLAG='',_period=1,_maxTick=5,_VERBOSE=True):\n",
    "        Process.__init__(self)\n",
    "        # Initialize class\n",
    "        self.idx = _idx\n",
    "        self.maxProcessID = _maxProcessID\n",
    "        self.maxGPU = _maxGPU\n",
    "        self.name = _name\n",
    "        self.FLAG = _FLAG # Running flag \n",
    "        self.VERBOSE = _VERBOSE\n",
    "        # Initialize Process \n",
    "        self.setName = 'T_'+self.name \n",
    "        self.args = (self.FLAG,)\n",
    "        self.daemon = True # Make sure that each child is killed when the parent is dead. (?!)\n",
    "        # Print\n",
    "        if self.VERBOSE:\n",
    "            print (\"[%s] Instantiated.\"%(self.name))\n",
    "    def run(self):\n",
    "        print (\"Starting [%s]\"%(self.name))\n",
    "        time.sleep(1e-1)\n",
    "        # Get configurations\n",
    "        parameter_list,GPU_ID = get_multigoal_config(self.idx,self.maxProcessID,self.maxGPU)\n",
    "        print (\"processID:[%d/%d] GPU_ID:[%d] #Config:[%d]\"\n",
    "               %(self.idx,self.maxProcessID,GPU_ID,len(parameter_list)))\n",
    "        #Run\n",
    "        train_imitation_learning_multiprocessing(parameter_list=parameter_list,GPU_ID=GPU_ID,verbose=True)\n",
    "        print (\"[%s] Done.\"%(self.name))\n",
    "        \n",
    "if __name__ == \"__main__\":\n",
    "    print (\"worker_class defined.\")"
   ]
  }
 ],
 "metadata": {
  "kernelspec": {
   "display_name": "Python 2",
   "language": "python",
   "name": "python2"
  },
  "language_info": {
   "codemirror_mode": {
    "name": "ipython",
    "version": 2
   },
   "file_extension": ".py",
   "mimetype": "text/x-python",
   "name": "python",
   "nbconvert_exporter": "python",
   "pygments_lexer": "ipython2",
   "version": "2.7.12"
  }
 },
 "nbformat": 4,
 "nbformat_minor": 2
}
