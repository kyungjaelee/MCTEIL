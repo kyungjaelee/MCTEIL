{
 "cells": [
  {
   "cell_type": "code",
   "execution_count": 9,
   "metadata": {},
   "outputs": [
    {
     "name": "stdout",
     "output_type": "stream",
     "text": [
      "Python version is [2]\n"
     ]
    }
   ],
   "source": [
    "import os,nbloader,warnings,sys,time\n",
    "warnings.filterwarnings(\"ignore\")\n",
    "\n",
    "import numpy as np\n",
    "import pickle\n",
    "\n",
    "from multigoal_imitation_learning import train_imitation_learning\n",
    "\n",
    "import itertools\n",
    "from multiprocessing import Process\n",
    "\n",
    "if __name__ == \"__main__\":\n",
    "    print (\"Python version is [%s]\"%(sys.version_info[0]))"
   ]
  },
  {
   "cell_type": "code",
   "execution_count": 10,
   "metadata": {},
   "outputs": [],
   "source": [
    "class grid_maker(object):\n",
    "    def __init__(self,*_arg):\n",
    "        self.arg = _arg\n",
    "        self.nArg = len(self.arg) # Number of total lists\n",
    "        _product = itertools.product(*self.arg); _nIter = 0\n",
    "        for x in _product: _nIter += 1\n",
    "        self.nIter = _nIter\n",
    "        self.paramList = ['']*self.nIter\n",
    "        self.idxList = ['']*self.nIter\n",
    "        _product = itertools.product(*self.arg);\n",
    "        for idx,x in enumerate(_product):\n",
    "            self.paramList[idx] = x"
   ]
  },
  {
   "cell_type": "code",
   "execution_count": 11,
   "metadata": {},
   "outputs": [
    {
     "name": "stdout",
     "output_type": "stream",
     "text": [
      "\n",
      "maxProcessID:[8], nTask:[11]\n",
      " processID:[0] [0, 8]\n",
      " processID:[1] [1, 9]\n",
      " processID:[2] [2, 10]\n",
      " processID:[3] [3]\n",
      " processID:[4] [4]\n",
      " processID:[5] [5]\n",
      " processID:[6] [6]\n",
      " processID:[7] [7]\n"
     ]
    }
   ],
   "source": [
    "def get_properIdx(_processID,_maxProcessID,_nTask):\n",
    "    ret = []\n",
    "    if _processID > _nTask: return ret\n",
    "    if _processID > _maxProcessID: return ret\n",
    "    m = (_nTask-_processID-1) // _maxProcessID\n",
    "    for i in range(m+1):\n",
    "        ret.append(i*_maxProcessID+_processID)\n",
    "    return ret\n",
    "if __name__ == \"__main__\":\n",
    "    maxProcessID,nTask = 8,11\n",
    "    print (\"\\nmaxProcessID:[%d], nTask:[%d]\"%(maxProcessID,nTask ))\n",
    "    for processID in range(maxProcessID):\n",
    "        ids = get_properIdx(_processID=processID,_maxProcessID=maxProcessID,_nTask=nTask)\n",
    "        print (\" processID:[%d] %s\"%(processID,ids))"
   ]
  },
  {
   "cell_type": "code",
   "execution_count": 12,
   "metadata": {},
   "outputs": [
    {
     "name": "stdout",
     "output_type": "stream",
     "text": [
      "GPU_ID:[1]\n",
      "(0, (0.003, 1, 0.001, 4, 300, 'softmax'))\n",
      "(1, (0.003, 1, 0.001, 8, 400, 'softmax'))\n",
      "(2, (0.003, 1, 1e-05, 6, 500, 'softmax'))\n",
      "(3, (0.003, 1, 1e-07, 6, 100, 'softmax'))\n",
      "(4, (0.003, 2, 0.001, 2, 200, 'softmax'))\n",
      "(5, (0.003, 2, 1e-05, 4, 300, 'softmax'))\n",
      "(6, (0.003, 2, 1e-05, 8, 400, 'softmax'))\n",
      "(7, (0.003, 2, 1e-07, 6, 500, 'softmax'))\n",
      "(8, (0.003, 3, 0.001, 6, 100, 'softmax'))\n",
      "(9, (0.003, 3, 1e-05, 2, 200, 'softmax'))\n",
      "(10, (0.003, 3, 1e-07, 4, 300, 'softmax'))\n",
      "(11, (0.003, 3, 1e-07, 8, 400, 'softmax'))\n",
      "(12, (0.003, 4, 0.001, 6, 500, 'softmax'))\n",
      "(13, (0.003, 4, 1e-05, 6, 100, 'softmax'))\n",
      "(14, (0.003, 4, 1e-07, 2, 200, 'softmax'))\n",
      "(15, (0.003, 5, 0.001, 4, 300, 'softmax'))\n",
      "(16, (0.003, 5, 0.001, 8, 400, 'softmax'))\n",
      "(17, (0.003, 5, 1e-05, 6, 500, 'softmax'))\n",
      "(18, (0.003, 5, 1e-07, 6, 100, 'softmax'))\n",
      "(19, (0.03, 1, 0.001, 2, 200, 'softmax'))\n",
      "(20, (0.03, 1, 1e-05, 4, 300, 'softmax'))\n",
      "(21, (0.03, 1, 1e-05, 8, 400, 'softmax'))\n",
      "(22, (0.03, 1, 1e-07, 6, 500, 'softmax'))\n",
      "(23, (0.03, 2, 0.001, 6, 100, 'softmax'))\n",
      "(24, (0.03, 2, 1e-05, 2, 200, 'softmax'))\n",
      "(25, (0.03, 2, 1e-07, 4, 300, 'softmax'))\n",
      "(26, (0.03, 2, 1e-07, 8, 400, 'softmax'))\n",
      "(27, (0.03, 3, 0.001, 6, 500, 'softmax'))\n",
      "(28, (0.03, 3, 1e-05, 6, 100, 'softmax'))\n",
      "(29, (0.03, 3, 1e-07, 2, 200, 'softmax'))\n",
      "(30, (0.03, 4, 0.001, 4, 300, 'softmax'))\n",
      "(31, (0.03, 4, 0.001, 8, 400, 'softmax'))\n",
      "(32, (0.03, 4, 1e-05, 6, 500, 'softmax'))\n",
      "(33, (0.03, 4, 1e-07, 6, 100, 'softmax'))\n",
      "(34, (0.03, 5, 0.001, 2, 200, 'softmax'))\n",
      "(35, (0.03, 5, 1e-05, 4, 300, 'softmax'))\n",
      "(36, (0.03, 5, 1e-05, 8, 400, 'softmax'))\n",
      "(37, (0.03, 5, 1e-07, 6, 500, 'softmax'))\n",
      "(38, (0.0003, 1, 0.001, 6, 100, 'softmax'))\n",
      "(39, (0.0003, 1, 1e-05, 2, 200, 'softmax'))\n",
      "(40, (0.0003, 1, 1e-07, 4, 300, 'softmax'))\n",
      "(41, (0.0003, 1, 1e-07, 8, 400, 'softmax'))\n",
      "(42, (0.0003, 2, 0.001, 6, 500, 'softmax'))\n",
      "(43, (0.0003, 2, 1e-05, 6, 100, 'softmax'))\n",
      "(44, (0.0003, 2, 1e-07, 2, 200, 'softmax'))\n",
      "(45, (0.0003, 3, 0.001, 4, 300, 'softmax'))\n",
      "(46, (0.0003, 3, 0.001, 8, 400, 'softmax'))\n",
      "(47, (0.0003, 3, 1e-05, 6, 500, 'softmax'))\n",
      "(48, (0.0003, 3, 1e-07, 6, 100, 'softmax'))\n",
      "(49, (0.0003, 4, 0.001, 2, 200, 'softmax'))\n",
      "(50, (0.0003, 4, 1e-05, 4, 300, 'softmax'))\n",
      "(51, (0.0003, 4, 1e-05, 8, 400, 'softmax'))\n",
      "(52, (0.0003, 4, 1e-07, 6, 500, 'softmax'))\n",
      "(53, (0.0003, 5, 0.001, 6, 100, 'softmax'))\n",
      "(54, (0.0003, 5, 1e-05, 2, 200, 'softmax'))\n",
      "(55, (0.0003, 5, 1e-07, 4, 300, 'softmax'))\n",
      "(56, (0.0003, 5, 1e-07, 8, 400, 'softmax'))\n"
     ]
    }
   ],
   "source": [
    "kl_targ_list=[3e-3, 3e-2, 3e-4]\n",
    "entcoeff_list=[1e-3, 1e-5, 1e-7]\n",
    "mdn_weigth_list=[\"sparsemax\",\"softmax\"]\n",
    "n_mixture_list=[4,2,6,8]\n",
    "epi_size_list=[100,200,300,400,500]\n",
    "seed_list=[1,2,3,4,5]\n",
    "\n",
    "def get_multigoal_config(_processID=0,_maxProcessID=2,_maxGPU=1,_DO_SHUFFLE=False):\n",
    "    # Get total configurations\n",
    "    _G = grid_maker(kl_targ_list,seed_list,entcoeff_list,n_mixture_list,epi_size_list,mdn_weigth_list)\n",
    "    # Get current configurations\n",
    "    _ids = get_properIdx(_processID,_maxProcessID,_nTask=_G.nIter)\n",
    "    _paramsList = list(_G.paramList[i] for i in _ids) \n",
    "    # Set GPU ID\n",
    "    _GPU_ID = (_processID % _maxGPU)\n",
    "    # Suffle if required\n",
    "    if _DO_SHUFFLE:\n",
    "        shuffle(_paramsList)\n",
    "    return _paramsList,_GPU_ID\n",
    "\n",
    "if __name__ == \"__main__\":\n",
    "    processID = 5\n",
    "    maxProcessID = 32\n",
    "    maxGPU = 4\n",
    "    paramsList,GPU_ID = get_multigoal_config(processID,maxProcessID,maxGPU)\n",
    "    print (\"GPU_ID:[%d]\"%(GPU_ID))\n",
    "    for pIdx,params in enumerate(paramsList): # For all current configurations\n",
    "        print (pIdx,params) "
   ]
  },
  {
   "cell_type": "code",
   "execution_count": 13,
   "metadata": {},
   "outputs": [],
   "source": [
    "def train_imitation_learning_multiprocessing(parameter_list=None,GPU_ID=0,verbose=False):\n",
    "    for pIdx,params in enumerate(parameter_list): # For all current configurations\n",
    "        kl_targ,seed,entcoeff,n_mixture,demo_size,mdn_weight=params\n",
    "        train_imitation_learning(seed,kl_targ,entcoeff,n_mixture,demo_size,mdn_weight,GPU_ID=GPU_ID,verbose=verbose)\n",
    "\n",
    "if __name__ == \"__main__\":\n",
    "    processID = 0\n",
    "    maxProcessID = 1792\n",
    "    parameter_list,GPU_ID = get_multigoal_config(processID,maxProcessID)\n",
    "#     train_imitation_learning_multiprocessing(parameter_list=parameter_list,GPU_ID=GPU_ID,verbose=True)"
   ]
  },
  {
   "cell_type": "code",
   "execution_count": 14,
   "metadata": {},
   "outputs": [
    {
     "name": "stdout",
     "output_type": "stream",
     "text": [
      "worker_class defined.\n"
     ]
    }
   ],
   "source": [
    "class worker_class(Process):\n",
    "    def __init__(self,_idx=0,_maxProcessID=8,_maxGPU=8,_name='worker',_FLAG='',_period=1,_maxTick=5,_VERBOSE=True):\n",
    "        Process.__init__(self)\n",
    "        # Initialize class\n",
    "        self.idx = _idx\n",
    "        self.maxProcessID = _maxProcessID\n",
    "        self.maxGPU = _maxGPU\n",
    "        self.name = _name\n",
    "        self.FLAG = _FLAG # Running flag \n",
    "        self.VERBOSE = _VERBOSE\n",
    "        # Initialize Process \n",
    "        self.setName = 'T_'+self.name \n",
    "        self.args = (self.FLAG,)\n",
    "        self.daemon = True # Make sure that each child is killed when the parent is dead. (?!)\n",
    "        # Print\n",
    "        if self.VERBOSE:\n",
    "            print (\"[%s] Instantiated.\"%(self.name))\n",
    "    def run(self):\n",
    "        print (\"Starting [%s]\"%(self.name))\n",
    "        time.sleep(1e-1)\n",
    "        # Get configurations\n",
    "        parameter_list,GPU_ID = get_multigoal_config(self.idx,self.maxProcessID,self.maxGPU)\n",
    "        print (\"processID:[%d/%d] GPU_ID:[%d] #Config:[%d]\"\n",
    "               %(self.idx,self.maxProcessID,GPU_ID,len(parameter_list)))\n",
    "        #Run\n",
    "        train_imitation_learning_multiprocessing(parameter_list=parameter_list,GPU_ID=GPU_ID,verbose=True)\n",
    "        print (\"[%s] Done.\"%(self.name))\n",
    "        \n",
    "if __name__ == \"__main__\":\n",
    "    print (\"worker_class defined.\")"
   ]
  }
 ],
 "metadata": {
  "kernelspec": {
   "display_name": "Python 2",
   "language": "python",
   "name": "python2"
  },
  "language_info": {
   "codemirror_mode": {
    "name": "ipython",
    "version": 2
   },
   "file_extension": ".py",
   "mimetype": "text/x-python",
   "name": "python",
   "nbconvert_exporter": "python",
   "pygments_lexer": "ipython2",
   "version": "2.7.12"
  }
 },
 "nbformat": 4,
 "nbformat_minor": 2
}
