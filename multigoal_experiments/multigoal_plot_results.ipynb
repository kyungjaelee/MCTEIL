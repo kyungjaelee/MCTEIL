{
 "cells": [
  {
   "cell_type": "code",
   "execution_count": 17,
   "metadata": {},
   "outputs": [],
   "source": [
    "import os,nbloader,warnings,sys,time\n",
    "warnings.filterwarnings(\"ignore\")\n",
    "os.environ[\"CUDA_VISIBLE_DEVICES\"]=\"0\"\n",
    "\n",
    "from main_multigoal_config import *\n",
    "import pickle\n",
    "from matplotlib import pyplot as plt\n",
    "%matplotlib inline"
   ]
  },
  {
   "cell_type": "code",
   "execution_count": 2,
   "metadata": {},
   "outputs": [
    {
     "name": "stdout",
     "output_type": "stream",
     "text": [
      "[0.003]\n",
      "[0.001, 0.1, 1e-05]\n",
      "['sparsemax', 'softmax']\n",
      "[4]\n",
      "[300]\n",
      "[0, 1, 2, 3, 4]\n"
     ]
    }
   ],
   "source": [
    "print(\"{}\".format(kl_targ_list))\n",
    "print(\"{}\".format(entcoeff_list))\n",
    "print(\"{}\".format(mdn_weigth_list))\n",
    "print(\"{}\".format(n_mixture_list))\n",
    "print(\"{}\".format(epi_size_list))\n",
    "print(\"{}\".format(seed_list))"
   ]
  },
  {
   "cell_type": "code",
   "execution_count": 30,
   "metadata": {},
   "outputs": [],
   "source": [
    "perf_list = np.zeros([len(mdn_weigth_list),len(entcoeff_list),len(seed_list),301])\n",
    "reach_list = np.zeros([len(mdn_weigth_list),len(entcoeff_list),len(seed_list),301,4])\n",
    "\n",
    "# seed:0,kl:3.00e-03,entcoeff:1.00e-03,weight:sparsemax,mixture:4,epi_size:500.pickle\n",
    "n_mixture = n_mixture_list[0]\n",
    "kl_targ = kl_targ_list[0]\n",
    "episode_size = 500#epi_size_list[0]\n",
    "for mdn_weigth_idx in range(len(mdn_weigth_list)):\n",
    "    for entcoeff_idx in range(len(entcoeff_list)):\n",
    "        for seed_idx in range(len(seed_list)):\n",
    "            seed = seed_list[seed_idx]\n",
    "            entcoeff = entcoeff_list[entcoeff_idx]\n",
    "            mdn_weight = mdn_weigth_list[mdn_weigth_idx]\n",
    "            saver_prefix=\"./results/seed:{},kl:{:.2e},entcoeff:{:.2e},weight:{},mixture:{:d},epi_size:{}.pickle\".format(seed,kl_targ,entcoeff,mdn_weight,n_mixture,episode_size)\n",
    "#             print(saver_prefix)\n",
    "#             print(os.path.isfile(saver_prefix))\n",
    "            if os.path.exists(saver_prefix):\n",
    "                f = open( saver_prefix, \"rb\" )\n",
    "                data = pickle.load(f)\n",
    "                perf_list[mdn_weigth_idx][entcoeff_idx][seed_idx] = data['mean_ret_list']\n",
    "                for update in range(301):\n",
    "                    for t in data['info_list'][update]:\n",
    "                        if any(goal==0 for goal in t):\n",
    "                            reach_list[mdn_weigth_idx][entcoeff_idx][seed_idx][update][0] = 1\n",
    "                        if any(goal==1 for goal in t):\n",
    "                            reach_list[mdn_weigth_idx][entcoeff_idx][seed_idx][update][1] = 1\n",
    "                        if any(goal==2 for goal in t):\n",
    "                            reach_list[mdn_weigth_idx][entcoeff_idx][seed_idx][update][2] = 1\n",
    "                        if any(goal==3 for goal in t):\n",
    "                            reach_list[mdn_weigth_idx][entcoeff_idx][seed_idx][update][3] = 1"
   ]
  },
  {
   "cell_type": "code",
   "execution_count": 32,
   "metadata": {},
   "outputs": [
    {
     "data": {
      "image/png": "[encoded data removed]",
      "text/plain": [
       "<matplotlib.figure.Figure at 0x7f9399912350>"
      ]
     },
     "metadata": {},
     "output_type": "display_data"
    }
   ],
   "source": [
    "for mdn_weigth_idx in range(len(mdn_weigth_list)):\n",
    "    for entcoeff_idx in range(len(entcoeff_list)):\n",
    "        for seed_idx in range(len(seed_list)):\n",
    "            seed = seed_list[seed_idx]\n",
    "            entcoeff = entcoeff_list[entcoeff_idx]\n",
    "            mdn_weight = mdn_weigth_list[mdn_weigth_idx]\n",
    "            saver_prefix=\"./results/seed:{},kl:{:.2e},entcoeff:{:.2e},weight:{},mixture:{:d},epi_size:{}.pickle\".format(seed,kl_targ,entcoeff,mdn_weight,n_mixture,episode_size)\n",
    "#             print(saver_prefix)\n",
    "#             print(os.path.isfile(saver_prefix))\n",
    "            if os.path.exists(saver_prefix):\n",
    "                plt.subplot(121)\n",
    "                plt.plot(perf_list[mdn_weigth_idx][entcoeff_idx][seed_idx])\n",
    "                plt.subplot(122)\n",
    "                plt.plot(np.sum(reach_list[mdn_weigth_idx][entcoeff_idx][seed_idx],axis=1))\n",
    "                plt.ylim([0,4])\n",
    "plt.show()"
   ]
  },
  {
   "cell_type": "code",
   "execution_count": null,
   "metadata": {},
   "outputs": [],
   "source": []
  }
 ],
 "metadata": {
  "kernelspec": {
   "display_name": "Python 2",
   "language": "python",
   "name": "python2"
  },
  "language_info": {
   "codemirror_mode": {
    "name": "ipython",
    "version": 2
   },
   "file_extension": ".py",
   "mimetype": "text/x-python",
   "name": "python",
   "nbconvert_exporter": "python",
   "pygments_lexer": "ipython2",
   "version": "2.7.12"
  }
 },
 "nbformat": 4,
 "nbformat_minor": 2
}
