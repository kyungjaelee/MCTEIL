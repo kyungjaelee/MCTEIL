{
 "cells": [
  {
   "cell_type": "code",
   "execution_count": 4,
   "metadata": {},
   "outputs": [],
   "source": [
    "import os,nbloader,warnings,sys,time\n",
    "warnings.filterwarnings(\"ignore\")\n",
    "os.environ[\"CUDA_VISIBLE_DEVICES\"]=\"0\"\n",
    "\n",
    "from main_multigoal_infoGAIL_config import worker_class\n",
    "from multiprocessing import Manager"
   ]
  },
  {
   "cell_type": "code",
   "execution_count": 5,
   "metadata": {},
   "outputs": [
    {
     "name": "stdout",
     "output_type": "stream",
     "text": [
      "[Worker_00] Instantiated.\n",
      "[Worker_01] Instantiated.\n",
      "[Worker_02] Instantiated.\n",
      "[Worker_03] Instantiated.\n",
      "[Worker_04] Instantiated.\n",
      "[Worker_05] Instantiated.\n",
      "[Worker_06] Instantiated.\n",
      "[Worker_07] Instantiated.\n",
      "[Worker_08] Instantiated.\n",
      "[Worker_09] Instantiated.\n"
     ]
    }
   ],
   "source": [
    "nWorker = 10\n",
    "maxGPU  = 1\n",
    "FLAGS = ['']*nWorker\n",
    "WORKERS = ['']*nWorker\n",
    "for i in range(nWorker):\n",
    "    FLAGS[i] = Manager().Value('d',1)\n",
    "    WORKERS[i] = worker_class(_idx=i,_maxProcessID=nWorker,_maxGPU=maxGPU,_name='Worker_%02d'%(i)\n",
    "                              ,_FLAG=FLAGS[i],_period=1.0,_maxTick=10,_VERBOSE=True)"
   ]
  },
  {
   "cell_type": "code",
   "execution_count": null,
   "metadata": {
    "scrolled": false
   },
   "outputs": [],
   "source": [
    "for i in range(nWorker):\n",
    "    WORKERS[i].start() # Start process"
   ]
  }
 ],
 "metadata": {
  "kernelspec": {
   "display_name": "Python 2",
   "language": "python",
   "name": "python2"
  },
  "language_info": {
   "codemirror_mode": {
    "name": "ipython",
    "version": 2
   },
   "file_extension": ".py",
   "mimetype": "text/x-python",
   "name": "python",
   "nbconvert_exporter": "python",
   "pygments_lexer": "ipython2",
   "version": "2.7.12"
  }
 },
 "nbformat": 4,
 "nbformat_minor": 2
}
