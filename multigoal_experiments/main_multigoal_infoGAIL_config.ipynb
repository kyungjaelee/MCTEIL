{
 "cells": [
  {
   "cell_type": "code",
   "execution_count": 1,
   "metadata": {},
   "outputs": [
    {
     "name": "stdout",
     "output_type": "stream",
     "text": [
      "Python version is [2]\n"
     ]
    }
   ],
   "source": [
    "import os,nbloader,warnings,sys,time\n",
    "warnings.filterwarnings(\"ignore\")\n",
    "\n",
    "import numpy as np\n",
    "import pickle\n",
    "\n",
    "from multigoal_infoGAIL import train_info_imitation_learning\n",
    "\n",
    "import itertools\n",
    "from multiprocessing import Process\n",
    "\n",
    "if __name__ == \"__main__\":\n",
    "    print (\"Python version is [%s]\"%(sys.version_info[0]))"
   ]
  },
  {
   "cell_type": "code",
   "execution_count": 2,
   "metadata": {},
   "outputs": [],
   "source": [
    "class grid_maker(object):\n",
    "    def __init__(self,*_arg):\n",
    "        self.arg = _arg\n",
    "        self.nArg = len(self.arg) # Number of total lists\n",
    "        _product = itertools.product(*self.arg); _nIter = 0\n",
    "        for x in _product: _nIter += 1\n",
    "        self.nIter = _nIter\n",
    "        self.paramList = ['']*self.nIter\n",
    "        self.idxList = ['']*self.nIter\n",
    "        _product = itertools.product(*self.arg);\n",
    "        for idx,x in enumerate(_product):\n",
    "            self.paramList[idx] = x"
   ]
  },
  {
   "cell_type": "code",
   "execution_count": 3,
   "metadata": {},
   "outputs": [
    {
     "name": "stdout",
     "output_type": "stream",
     "text": [
      "\n",
      "maxProcessID:[8], nTask:[11]\n",
      " processID:[0] [0, 8]\n",
      " processID:[1] [1, 9]\n",
      " processID:[2] [2, 10]\n",
      " processID:[3] [3]\n",
      " processID:[4] [4]\n",
      " processID:[5] [5]\n",
      " processID:[6] [6]\n",
      " processID:[7] [7]\n"
     ]
    }
   ],
   "source": [
    "def get_properIdx(_processID,_maxProcessID,_nTask):\n",
    "    ret = []\n",
    "    if _processID > _nTask: return ret\n",
    "    if _processID > _maxProcessID: return ret\n",
    "    m = (_nTask-_processID-1) // _maxProcessID\n",
    "    for i in range(m+1):\n",
    "        ret.append(i*_maxProcessID+_processID)\n",
    "    return ret\n",
    "if __name__ == \"__main__\":\n",
    "    maxProcessID,nTask = 8,11\n",
    "    print (\"\\nmaxProcessID:[%d], nTask:[%d]\"%(maxProcessID,nTask ))\n",
    "    for processID in range(maxProcessID):\n",
    "        ids = get_properIdx(_processID=processID,_maxProcessID=maxProcessID,_nTask=nTask)\n",
    "        print (\" processID:[%d] %s\"%(processID,ids))"
   ]
  },
  {
   "cell_type": "code",
   "execution_count": 4,
   "metadata": {},
   "outputs": [
    {
     "name": "stdout",
     "output_type": "stream",
     "text": [
      "GPU_ID:[0]\n",
      "(0, (0.003, 0.1, 4, 300, 0.001, 4))\n",
      "(1, (0.003, 0.001, 4, 300, 0.001, 4))\n",
      "(2, (0.003, 1e-05, 4, 300, 0.001, 4))\n",
      "(3, (0.003, 1e-07, 4, 300, 0.001, 4))\n"
     ]
    }
   ],
   "source": [
    "kl_targ_list=[3e-3]\n",
    "entcoeff_list=[1e-1, 1e-3, 1e-5, 1e-7]\n",
    "n_mixture_list=[4]\n",
    "epi_size_list=[300]\n",
    "seed_list=[1,2,3,4,5,6,7,8,9,10]\n",
    "logpostcoeff_list=[1e-3]\n",
    "    \n",
    "def get_multigoal_config(_processID=0,_maxProcessID=2,_maxGPU=1,_DO_SHUFFLE=False):\n",
    "    # Get total configurations\n",
    "    _G = grid_maker(kl_targ_list,entcoeff_list,n_mixture_list,epi_size_list,logpostcoeff_list,seed_list)\n",
    "    # Get current configurations\n",
    "    _ids = get_properIdx(_processID,_maxProcessID,_nTask=_G.nIter)\n",
    "    _paramsList = list(_G.paramList[i] for i in _ids) \n",
    "    # Set GPU ID\n",
    "    _GPU_ID = (_processID % _maxGPU)\n",
    "    # Suffle if required\n",
    "    if _DO_SHUFFLE:\n",
    "        shuffle(_paramsList)\n",
    "    return _paramsList,_GPU_ID\n",
    "\n",
    "if __name__ == \"__main__\":\n",
    "    processID = 3\n",
    "    maxProcessID = 10\n",
    "    maxGPU = 1\n",
    "    paramsList,GPU_ID = get_multigoal_config(processID,maxProcessID,maxGPU)\n",
    "    print (\"GPU_ID:[%d]\"%(GPU_ID))\n",
    "    for pIdx,params in enumerate(paramsList): # For all current configurations\n",
    "        print (pIdx,params) "
   ]
  },
  {
   "cell_type": "code",
   "execution_count": 5,
   "metadata": {},
   "outputs": [],
   "source": [
    "def train_imitation_learning_infoGAIL_multiprocessing(parameter_list=None,GPU_ID=0,verbose=False):\n",
    "    for pIdx,params in enumerate(parameter_list): # For all current configurations\n",
    "        kl_targ,entcoeff,n_mixture,demo_size,logpostcoeff,seed=params\n",
    "        train_info_imitation_learning(seed,entcoeff,logpostcoeff,n_mixture,demo_size,verbose=verbose)\n",
    "\n",
    "if __name__ == \"__main__\":\n",
    "    processID = 4\n",
    "    maxProcessID = 5\n",
    "    maxGPU = 4\n",
    "    parameter_list,GPU_ID = get_multigoal_config(processID,maxProcessID,maxGPU)\n",
    "#     train_imitation_learning_infoGAIL_multiprocessing(parameter_list=parameter_list,GPU_ID=GPU_ID,verbose=True)"
   ]
  },
  {
   "cell_type": "code",
   "execution_count": 6,
   "metadata": {},
   "outputs": [
    {
     "name": "stdout",
     "output_type": "stream",
     "text": [
      "worker_class defined.\n"
     ]
    }
   ],
   "source": [
    "class worker_class(Process):\n",
    "    def __init__(self,_idx=0,_maxProcessID=8,_maxGPU=8,_name='worker',_FLAG='',_period=1,_maxTick=5,_VERBOSE=True):\n",
    "        Process.__init__(self)\n",
    "        # Initialize class\n",
    "        self.idx = _idx\n",
    "        self.maxProcessID = _maxProcessID\n",
    "        self.maxGPU = _maxGPU\n",
    "        self.name = _name\n",
    "        self.FLAG = _FLAG # Running flag \n",
    "        self.VERBOSE = _VERBOSE\n",
    "        # Initialize Process \n",
    "        self.setName = 'T_'+self.name \n",
    "        self.args = (self.FLAG,)\n",
    "        self.daemon = True # Make sure that each child is killed when the parent is dead. (?!)\n",
    "        # Print\n",
    "        if self.VERBOSE:\n",
    "            print (\"[%s] Instantiated.\"%(self.name))\n",
    "    def run(self):\n",
    "        print (\"Starting [%s]\"%(self.name))\n",
    "        time.sleep(1e-1)\n",
    "        # Get configurations\n",
    "        parameter_list,GPU_ID = get_multigoal_config(self.idx,self.maxProcessID,self.maxGPU)\n",
    "        print (\"processID:[%d/%d] GPU_ID:[%d] #Config:[%d]\"\n",
    "               %(self.idx,self.maxProcessID,GPU_ID,len(parameter_list)))\n",
    "        #Run\n",
    "        train_imitation_learning_infoGAIL_multiprocessing(parameter_list=parameter_list,GPU_ID=GPU_ID,verbose=True)\n",
    "        print (\"[%s] Done.\"%(self.name))\n",
    "        \n",
    "if __name__ == \"__main__\":\n",
    "    print (\"worker_class defined.\")"
   ]
  }
 ],
 "metadata": {
  "kernelspec": {
   "display_name": "Python 2",
   "language": "python",
   "name": "python2"
  },
  "language_info": {
   "codemirror_mode": {
    "name": "ipython",
    "version": 2
   },
   "file_extension": ".py",
   "mimetype": "text/x-python",
   "name": "python",
   "nbconvert_exporter": "python",
   "pygments_lexer": "ipython2",
   "version": "2.7.12"
  }
 },
 "nbformat": 4,
 "nbformat_minor": 2
}
