{
 "cells": [
  {
   "cell_type": "code",
   "execution_count": 1,
   "metadata": {},
   "outputs": [],
   "source": [
    "import os,nbloader,warnings,sys,time\n",
    "warnings.filterwarnings(\"ignore\")\n",
    "\n",
    "from main_multigoal_config import worker_class\n",
    "from multiprocessing import Manager"
   ]
  },
  {
   "cell_type": "code",
   "execution_count": 2,
   "metadata": {},
   "outputs": [
    {
     "name": "stdout",
     "output_type": "stream",
     "text": [
      "[Worker_00] Instantiated.\n",
      "[Worker_01] Instantiated.\n"
     ]
    }
   ],
   "source": [
    "nWorker = 2\n",
    "maxGPU  = 1\n",
    "FLAGS = ['']*nWorker\n",
    "WORKERS = ['']*nWorker\n",
    "for i in range(nWorker):\n",
    "    FLAGS[i] = Manager().Value('d',1)\n",
    "    WORKERS[i] = worker_class(_idx=i,_maxProcessID=nWorker,_maxGPU=maxGPU,_name='Worker_%02d'%(i)\n",
    "                              ,_FLAG=FLAGS[i],_period=1.0,_maxTick=10,_VERBOSE=True)"
   ]
  },
  {
   "cell_type": "code",
   "execution_count": 3,
   "metadata": {
    "scrolled": false
   },
   "outputs": [
    {
     "name": "stdout",
     "output_type": "stream",
     "text": [
      "Starting [Worker_00]\n",
      "Starting [Worker_01]\n",
      "processID:[0/2] GPU_ID:[0] #Config:[900]\n",
      "processID:[1/2] GPU_ID:[0] #Config:[900]\n"
     ]
    },
    {
     "name": "stderr",
     "output_type": "stream",
     "text": [
      "Process Worker_01:\n",
      "Traceback (most recent call last):\n",
      "  File \"/usr/lib/python2.7/multiprocessing/process.py\", line 258, in _bootstrap\n",
      "    self.run()\n",
      "  File \"<string>\", line 26, in run\n",
      "Process Worker_00:\n",
      "  File \"<string>\", line 4, in train_imitation_learning_multiprocessing\n",
      "Traceback (most recent call last):\n",
      "  File \"<string>\", line 34, in train_imitation_learning\n",
      "  File \"/usr/lib/python2.7/multiprocessing/process.py\", line 258, in _bootstrap\n",
      "  File \"<string>\", line 85, in run_policy\n",
      "    self.run()\n",
      "  File \"<string>\", line 70, in run_episode\n",
      "  File \"<string>\", line 26, in run\n",
      "  File \"<string>\", line 175, in sample\n",
      "  File \"<string>\", line 4, in train_imitation_learning_multiprocessing\n",
      "  File \"/usr/local/lib/python2.7/dist-packages/tensorflow/python/client/session.py\", line 889, in run\n",
      "  File \"<string>\", line 34, in train_imitation_learning\n",
      "    run_metadata_ptr)\n",
      "  File \"<string>\", line 85, in run_policy\n",
      "  File \"/usr/local/lib/python2.7/dist-packages/tensorflow/python/client/session.py\", line 1089, in _run\n",
      "  File \"<string>\", line 70, in run_episode\n",
      "    np_val = np.asarray(subfeed_val, dtype=subfeed_dtype)\n",
      "  File \"<string>\", line 175, in sample\n",
      "  File \"/usr/local/lib/python2.7/dist-packages/numpy/core/numeric.py\", line 492, in asarray\n",
      "  File \"/usr/local/lib/python2.7/dist-packages/tensorflow/python/client/session.py\", line 889, in run\n",
      "    run_metadata_ptr)\n",
      "  File \"/usr/local/lib/python2.7/dist-packages/tensorflow/python/client/session.py\", line 1120, in _run\n",
      "    feed_dict_tensor, options, run_metadata)\n",
      "  File \"/usr/local/lib/python2.7/dist-packages/tensorflow/python/client/session.py\", line 1317, in _do_run\n",
      "    options, run_metadata)\n",
      "  File \"/usr/local/lib/python2.7/dist-packages/tensorflow/python/client/session.py\", line 1323, in _do_call\n",
      "    return fn(*args)\n",
      "  File \"/usr/local/lib/python2.7/dist-packages/tensorflow/python/client/session.py\", line 1302, in _run_fn\n",
      "    status, run_metadata)\n",
      "KeyboardInterrupt\n",
      "Exception TypeError: \"render() got an unexpected keyword argument 'close'\" in <bound method MultiGoalEnv.__del__ of <multigoal.MultiGoalEnv object at 0x7fe76c686590>> ignored\n",
      "    return array(a, dtype, copy=False, order=order)\n",
      "KeyboardInterrupt\n",
      "Exception TypeError: \"render() got an unexpected keyword argument 'close'\" in <bound method MultiGoalEnv.__del__ of <multigoal.MultiGoalEnv object at 0x7fe76c686590>> ignored\n"
     ]
    }
   ],
   "source": [
    "for i in range(nWorker):\n",
    "    WORKERS[i].start(); # Start process"
   ]
  }
 ],
 "metadata": {
  "kernelspec": {
   "display_name": "Python 2",
   "language": "python",
   "name": "python2"
  },
  "language_info": {
   "codemirror_mode": {
    "name": "ipython",
    "version": 2
   },
   "file_extension": ".py",
   "mimetype": "text/x-python",
   "name": "python",
   "nbconvert_exporter": "python",
   "pygments_lexer": "ipython2",
   "version": "2.7.12"
  }
 },
 "nbformat": 4,
 "nbformat_minor": 2
}
